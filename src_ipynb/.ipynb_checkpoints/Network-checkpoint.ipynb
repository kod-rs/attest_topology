{
 "cells": [
  {
   "cell_type": "code",
   "execution_count": 1,
   "id": "22bdc60a",
   "metadata": {},
   "outputs": [],
   "source": [
    "import pandapower\n",
    "\n",
    "net = pandapower.converter.from_mpc('../estimator_data/WP 4/A_KPC_35/A_KPC_35.mat')"
   ]
  },
  {
   "cell_type": "code",
   "execution_count": null,
   "id": "3109d8c4",
   "metadata": {},
   "outputs": [],
   "source": []
  }
 ],
 "metadata": {
  "kernelspec": {
   "display_name": "Python 3 (ipykernel)",
   "language": "python",
   "name": "python3"
  },
  "language_info": {
   "codemirror_mode": {
    "name": "ipython",
    "version": 3
   },
   "file_extension": ".py",
   "mimetype": "text/x-python",
   "name": "python",
   "nbconvert_exporter": "python",
   "pygments_lexer": "ipython3",
   "version": "3.10.4"
  }
 },
 "nbformat": 4,
 "nbformat_minor": 5
}
